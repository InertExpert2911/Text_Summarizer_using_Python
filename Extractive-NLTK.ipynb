{
 "cells": [
  {
   "cell_type": "code",
   "execution_count": 249,
   "metadata": {},
   "outputs": [],
   "source": [
    "# import required libraries\n",
    "\n",
    "import nltk # Natural Language Tool Kit (Natural Language Processing - NLP)\n",
    "\n",
    "# Need the below libraries to build an effective summarizer \n",
    "\n",
    "from nltk.corpus import stopwords # corpus - collection of text\n",
    "\n",
    "from nltk.tokenize import word_tokenize, sent_tokenize \n",
    "\n",
    "# tokenize - divides text into a number of tokens (Word & Scentence tokenizer)\n",
    "# word_tokenize - split sentences or paragraphs into words\n",
    "# sent_tokenizer - split paragraphs into sentences and keep track of them\n",
    "\n",
    "# BETA\n",
    "\n",
    "import pandas as pd\n",
    "\n",
    "import markovify\n",
    "\n",
    "import matplotlib as plt\n",
    "\n",
    "# BETA"
   ]
  },
  {
   "cell_type": "code",
   "execution_count": 278,
   "metadata": {},
   "outputs": [],
   "source": [
    "# Input data  \n",
    "input = \"\"\"The Indian Premier League (IPL) is a professional Twenty20 cricket league in India contested during April and May of every year by 8 teams representing 8 cities of India. The league was founded by the Board of Control for Cricket in India (BCCI) in 2008, and is regarded as the brainchild of Lalit Modi, the founder and former commissioner of the league. IPL has an exclusive window in ICC Future Tours Programme.\n",
    "\n",
    "The IPL is the most-attended cricket league in the world and in 2014 ranked sixth by average attendance among all sports leagues. In 2010, the IPL became the first sporting event in the world to be broadcast live on YouTube. The brand value of IPL in 2018 was US$6.3 billion, according to Duff & Phelps. According to BCCI, the 2015 IPL season contributed ₹11.5 billion (US$182 million) to the GDP of the Indian economy.\n",
    "\n",
    "There have been eleven seasons of the IPL tournament. The current IPL title holders are the Chennai Super Kings, who won the 2018 season.\"\"\""
   ]
  },
  {
   "cell_type": "code",
   "execution_count": 279,
   "metadata": {},
   "outputs": [
    {
     "name": "stdout",
     "output_type": "stream",
     "text": [
      "INPUT COUNT :973\n"
     ]
    }
   ],
   "source": [
    "count_before = len(input) # Counts words in input                       \n",
    "print(\"INPUT COUNT :\" + str(count_before))  # Prints the count"
   ]
  },
  {
   "cell_type": "code",
   "execution_count": 280,
   "metadata": {},
   "outputs": [],
   "source": [
    "# Text Tokenizing\n",
    "\n",
    "Stop_Words = set(stopwords.words(\"english\")) # Assign a varaible to store stopwords\n"
   ]
  },
  {
   "cell_type": "code",
   "execution_count": 281,
   "metadata": {
    "scrolled": true
   },
   "outputs": [
    {
     "name": "stdout",
     "output_type": "stream",
     "text": [
      "['i', 'me', 'my', 'myself', 'we', 'our', 'ours', 'ourselves', 'you', \"you're\", \"you've\", \"you'll\", \"you'd\", 'your', 'yours', 'yourself', 'yourselves', 'he', 'him', 'his', 'himself', 'she', \"she's\", 'her', 'hers', 'herself', 'it', \"it's\", 'its', 'itself', 'they', 'them', 'their', 'theirs', 'themselves', 'what', 'which', 'who', 'whom', 'this', 'that', \"that'll\", 'these', 'those', 'am', 'is', 'are', 'was', 'were', 'be', 'been', 'being', 'have', 'has', 'had', 'having', 'do', 'does', 'did', 'doing', 'a', 'an', 'the', 'and', 'but', 'if', 'or', 'because', 'as', 'until', 'while', 'of', 'at', 'by', 'for', 'with', 'about', 'against', 'between', 'into', 'through', 'during', 'before', 'after', 'above', 'below', 'to', 'from', 'up', 'down', 'in', 'out', 'on', 'off', 'over', 'under', 'again', 'further', 'then', 'once', 'here', 'there', 'when', 'where', 'why', 'how', 'all', 'any', 'both', 'each', 'few', 'more', 'most', 'other', 'some', 'such', 'no', 'nor', 'not', 'only', 'own', 'same', 'so', 'than', 'too', 'very', 's', 't', 'can', 'will', 'just', 'don', \"don't\", 'should', \"should've\", 'now', 'd', 'll', 'm', 'o', 're', 've', 'y', 'ain', 'aren', \"aren't\", 'couldn', \"couldn't\", 'didn', \"didn't\", 'doesn', \"doesn't\", 'hadn', \"hadn't\", 'hasn', \"hasn't\", 'haven', \"haven't\", 'isn', \"isn't\", 'ma', 'mightn', \"mightn't\", 'mustn', \"mustn't\", 'needn', \"needn't\", 'shan', \"shan't\", 'shouldn', \"shouldn't\", 'wasn', \"wasn't\", 'weren', \"weren't\", 'won', \"won't\", 'wouldn', \"wouldn't\"]\n"
     ]
    }
   ],
   "source": [
    "print(stopwords.words(\"english\")) # These are the stopwords"
   ]
  },
  {
   "cell_type": "code",
   "execution_count": 282,
   "metadata": {},
   "outputs": [],
   "source": [
    "Words = word_tokenize(input) # Assigning a variable to filter all the words in a text"
   ]
  },
  {
   "cell_type": "code",
   "execution_count": 283,
   "metadata": {},
   "outputs": [
    {
     "name": "stdout",
     "output_type": "stream",
     "text": [
      "['The', 'Indian', 'Premier', 'League', '(', 'IPL', ')', 'is', 'a', 'professional', 'Twenty20', 'cricket', 'league', 'in', 'India', 'contested', 'during', 'April', 'and', 'May', 'of', 'every', 'year', 'by', '8', 'teams', 'representing', '8', 'cities', 'of', 'India', '.', 'The', 'league', 'was', 'founded', 'by', 'the', 'Board', 'of', 'Control', 'for', 'Cricket', 'in', 'India', '(', 'BCCI', ')', 'in', '2008', ',', 'and', 'is', 'regarded', 'as', 'the', 'brainchild', 'of', 'Lalit', 'Modi', ',', 'the', 'founder', 'and', 'former', 'commissioner', 'of', 'the', 'league', '.', 'IPL', 'has', 'an', 'exclusive', 'window', 'in', 'ICC', 'Future', 'Tours', 'Programme', '.', 'The', 'IPL', 'is', 'the', 'most-attended', 'cricket', 'league', 'in', 'the', 'world', 'and', 'in', '2014', 'ranked', 'sixth', 'by', 'average', 'attendance', 'among', 'all', 'sports', 'leagues', '.', 'In', '2010', ',', 'the', 'IPL', 'became', 'the', 'first', 'sporting', 'event', 'in', 'the', 'world', 'to', 'be', 'broadcast', 'live', 'on', 'YouTube', '.', 'The', 'brand', 'value', 'of', 'IPL', 'in', '2018', 'was', 'US', '$', '6.3', 'billion', ',', 'according', 'to', 'Duff', '&', 'Phelps', '.', 'According', 'to', 'BCCI', ',', 'the', '2015', 'IPL', 'season', 'contributed', '₹11.5', 'billion', '(', 'US', '$', '182', 'million', ')', 'to', 'the', 'GDP', 'of', 'the', 'Indian', 'economy', '.', 'There', 'have', 'been', 'eleven', 'seasons', 'of', 'the', 'IPL', 'tournament', '.', 'The', 'current', 'IPL', 'title', 'holders', 'are', 'the', 'Chennai', 'Super', 'Kings', ',', 'who', 'won', 'the', '2018', 'season', '.']\n"
     ]
    }
   ],
   "source": [
    "print(Words) # Prints the words present in input"
   ]
  },
  {
   "cell_type": "code",
   "execution_count": 284,
   "metadata": {},
   "outputs": [],
   "source": [
    "Sentences = sent_tokenize(input) # Store the scentences in a variable"
   ]
  },
  {
   "cell_type": "code",
   "execution_count": 285,
   "metadata": {},
   "outputs": [
    {
     "name": "stdout",
     "output_type": "stream",
     "text": [
      "['The Indian Premier League (IPL) is a professional Twenty20 cricket league in India contested during April and May of every year by 8 teams representing 8 cities of India.', 'The league was founded by the Board of Control for Cricket in India (BCCI) in 2008, and is regarded as the brainchild of Lalit Modi, the founder and former commissioner of the league.', 'IPL has an exclusive window in ICC Future Tours Programme.', 'The IPL is the most-attended cricket league in the world and in 2014 ranked sixth by average attendance among all sports leagues.', 'In 2010, the IPL became the first sporting event in the world to be broadcast live on YouTube.', 'The brand value of IPL in 2018 was US$6.3 billion, according to Duff & Phelps.', 'According to BCCI, the 2015 IPL season contributed ₹11.5 billion (US$182 million) to the GDP of the Indian economy.', 'There have been eleven seasons of the IPL tournament.', 'The current IPL title holders are the Chennai Super Kings, who won the 2018 season.']\n"
     ]
    }
   ],
   "source": [
    "print(Sentences) # Prints all scentences in the input"
   ]
  },
  {
   "cell_type": "code",
   "execution_count": 286,
   "metadata": {},
   "outputs": [],
   "source": [
    "# Frequency table    \n",
    "# This table keeps track of how many times each word appears in the summarizer                \n",
    "   \n",
    "Frequency_Table = dict() # Dictionaries are used to find which sentences has more content (key:value pairs)"
   ]
  },
  {
   "cell_type": "code",
   "execution_count": 287,
   "metadata": {},
   "outputs": [
    {
     "name": "stdout",
     "output_type": "stream",
     "text": [
      "{}\n"
     ]
    }
   ],
   "source": [
    "print(dict()) # Haven't put anything in it, so NULL"
   ]
  },
  {
   "cell_type": "code",
   "execution_count": 288,
   "metadata": {},
   "outputs": [],
   "source": [
    "\n",
    "for word in Words:   # If a word (any word) is encountered in Words (has all words of input)\n",
    "    \n",
    "    word = word.lower() # Returns lowercased words (If there are any uppercase words then lower() convert them to lowercase)     \n",
    "    \n",
    "    if word in Stop_Words:  # If a word in Stop_Words array is encountered ignore it\n",
    "        continue          \n",
    "    \n",
    "    if word in Frequency_Table:  # If a word is already present in Frequency_Table then, the number associated with the word is incremented by 1\n",
    "        Frequency_Table[word] += 1  # '+=' FUNCTION IS THAT when x = 3 ; x += 2 ; print x >>> 5 \n",
    "    \n",
    "    else: \n",
    "        Frequency_Table[word] = 1   # Else if, it is a new word then it id added to Frequency_Table"
   ]
  },
  {
   "cell_type": "code",
   "execution_count": 289,
   "metadata": {},
   "outputs": [
    {
     "name": "stdout",
     "output_type": "stream",
     "text": [
      "{'indian': 2, 'premier': 1, 'league': 5, '(': 3, 'ipl': 8, ')': 3, 'professional': 1, 'twenty20': 1, 'cricket': 3, 'india': 3, 'contested': 1, 'april': 1, 'may': 1, 'every': 1, 'year': 1, '8': 2, 'teams': 1, 'representing': 1, 'cities': 1, '.': 9, 'founded': 1, 'board': 1, 'control': 1, 'bcci': 2, '2008': 1, ',': 6, 'regarded': 1, 'brainchild': 1, 'lalit': 1, 'modi': 1, 'founder': 1, 'former': 1, 'commissioner': 1, 'exclusive': 1, 'window': 1, 'icc': 1, 'future': 1, 'tours': 1, 'programme': 1, 'most-attended': 1, 'world': 2, '2014': 1, 'ranked': 1, 'sixth': 1, 'average': 1, 'attendance': 1, 'among': 1, 'sports': 1, 'leagues': 1, '2010': 1, 'became': 1, 'first': 1, 'sporting': 1, 'event': 1, 'broadcast': 1, 'live': 1, 'youtube': 1, 'brand': 1, 'value': 1, '2018': 2, 'us': 2, '$': 2, '6.3': 1, 'billion': 2, 'according': 2, 'duff': 1, '&': 1, 'phelps': 1, '2015': 1, 'season': 2, 'contributed': 1, '₹11.5': 1, '182': 1, 'million': 1, 'gdp': 1, 'economy': 1, 'eleven': 1, 'seasons': 1, 'tournament': 1, 'current': 1, 'title': 1, 'holders': 1, 'chennai': 1, 'super': 1, 'kings': 1}\n"
     ]
    }
   ],
   "source": [
    "print(Frequency_Table) # Gives the contents of Frequency_Table"
   ]
  },
  {
   "cell_type": "code",
   "execution_count": 290,
   "metadata": {},
   "outputs": [],
   "source": [
    "# A dictionary to store scentences and values linked to it \n",
    " \n",
    "\n",
    "Sentences = sent_tokenize(input) # Storing the sentences tokens\n",
    "\n",
    "Sentence_Value = dict()  # We need a value for each sentence to get the avg from them (To put important sentences together) \n",
    "                         # These values are stored in a dictionary (Dict can hold any data type here KEY:VALUE pairs)\n",
    "\n",
    "    "
   ]
  },
  {
   "cell_type": "code",
   "execution_count": 291,
   "metadata": {},
   "outputs": [
    {
     "name": "stdout",
     "output_type": "stream",
     "text": [
      "{}\n"
     ]
    }
   ],
   "source": [
    "print(Sentence_Value)    # NULL because we havent put anything in it"
   ]
  },
  {
   "cell_type": "code",
   "execution_count": 292,
   "metadata": {},
   "outputs": [],
   "source": [
    "\n",
    "for sentence in Sentences: # If a sentence  in the Sentences (has all sentences from input)\n",
    "   \n",
    "  for word, Frequency in Frequency_Table.items(): # .items() method lists all KEY:VALUE pairs from the dictionary\n",
    "        \n",
    "        if word in sentence.lower(): # If a word in sentence is lowercase\n",
    "        \n",
    "          if sentence in Sentence_Value: # If you encounter a sentence from Sentence_Value\n",
    "              \n",
    "             Sentence_Value[sentence] += Frequency # Frequency is added to Sentence_Value of the sentence (to pointed sentence from input)\n",
    "           \n",
    "          else: \n",
    "                Sentence_Value[sentence] = Frequency # Else Sentence_Value of a sentence is equated to frequency\n",
    "            \n",
    "            #Sentence_Value[sentence]  =  Sentence_Value[sentence] + Frequency                \n",
    "            \n",
    "            #Sentence_Value = Add numbers from Frequnecy_Table and also rest of the words (like, of, which etc) STOP WORDS\n",
    "            \n",
    "             #EXAMPLE:\n",
    "                # In an attempt(2) to build(5) an AI-ready(2) workforce(2) ,(14)\n",
    "                # Microsoft(4) announced(2) Intelligent(2) Cloud(5) Hub(3) \n",
    "                # which has been launched(1) to empower(1) the next(1) generation(1)\n",
    "                # of students(2) with AI-ready(2) skills(5) .(12)': 78\n",
    "                # 2+5+2+2+14+4+2+2+5+3+1+1+1+1+2+2+5+12 = 66 + remaining words(11) = 77 + 1(Frequency) =>> 78\n",
    "                # 78 = 78 !!!!!!!!!!!!!!     \n",
    "       "
   ]
  },
  {
   "cell_type": "code",
   "execution_count": 293,
   "metadata": {},
   "outputs": [
    {
     "name": "stdout",
     "output_type": "stream",
     "text": [
      "1\n"
     ]
    }
   ],
   "source": [
    "print(Frequency)"
   ]
  },
  {
   "cell_type": "code",
   "execution_count": 294,
   "metadata": {},
   "outputs": [
    {
     "name": "stdout",
     "output_type": "stream",
     "text": [
      "{'The Indian Premier League (IPL) is a professional Twenty20 cricket league in India contested during April and May of every year by 8 teams representing 8 cities of India.': 49, 'The league was founded by the Board of Control for Cricket in India (BCCI) in 2008, and is regarded as the brainchild of Lalit Modi, the founder and former commissioner of the league.': 47, 'IPL has an exclusive window in ICC Future Tours Programme.': 25, 'The IPL is the most-attended cricket league in the world and in 2014 ranked sixth by average attendance among all sports leagues.': 36, 'In 2010, the IPL became the first sporting event in the world to be broadcast live on YouTube.': 33, 'The brand value of IPL in 2018 was US$6.3 billion, according to Duff & Phelps.': 41, 'According to BCCI, the 2015 IPL season contributed ₹11.5 billion (US$182 million) to the GDP of the Indian economy.': 55, 'There have been eleven seasons of the IPL tournament.': 22, 'The current IPL title holders are the Chennai Super Kings, who won the 2018 season.': 35}\n"
     ]
    }
   ],
   "source": [
    " print(Sentence_Value)"
   ]
  },
  {
   "cell_type": "code",
   "execution_count": 295,
   "metadata": {},
   "outputs": [],
   "source": [
    "\n",
    "Sum_Values = 0 # Taking Sum as 0 \n",
    "\n",
    "for sentence in Sentence_Value: # A sentence in Sentence_Value\n",
    "    \n",
    "    Sum_Values += Sentence_Value[sentence] # 0 += Value of all sentences in Sentence_Value\n",
    "    "
   ]
  },
  {
   "cell_type": "code",
   "execution_count": 296,
   "metadata": {},
   "outputs": [
    {
     "name": "stdout",
     "output_type": "stream",
     "text": [
      "343\n"
     ]
    }
   ],
   "source": [
    "print(Sum_Values) # Sum of all sentences from Sentence_Value"
   ]
  },
  {
   "cell_type": "code",
   "execution_count": 297,
   "metadata": {},
   "outputs": [
    {
     "name": "stdout",
     "output_type": "stream",
     "text": [
      "9\n"
     ]
    }
   ],
   "source": [
    "print (len(Sentence_Value)) # This indicates the toatal number of lines in Sentence_Value"
   ]
  },
  {
   "cell_type": "code",
   "execution_count": 298,
   "metadata": {},
   "outputs": [],
   "source": [
    "# Finding Average of Sentences from input\n",
    "    \n",
    "Avg = int(Sum_Values / len(Sentence_Value))\n"
   ]
  },
  {
   "cell_type": "code",
   "execution_count": 299,
   "metadata": {},
   "outputs": [
    {
     "name": "stdout",
     "output_type": "stream",
     "text": [
      "38\n"
     ]
    }
   ],
   "source": [
    "print(Avg) "
   ]
  },
  {
   "cell_type": "code",
   "execution_count": 309,
   "metadata": {},
   "outputs": [],
   "source": [
    "# Assigning a variable to store sentences \n",
    "\n",
    "Summary = '' # NULL !!!! \n",
    "\n",
    "for sentence in Sentences: \n",
    "    \n",
    "    if (sentence in Sentence_Value) and (Sentence_Value[sentence] > (0.9 * Avg)):  # Helps us to get all sentences above Sentence_Value 59\n",
    "        \n",
    "        Summary += \"\" + sentence # Assigning a variable summary"
   ]
  },
  {
   "cell_type": "code",
   "execution_count": 310,
   "metadata": {},
   "outputs": [
    {
     "name": "stdout",
     "output_type": "stream",
     "text": [
      " -------------------------------------------------------SUMMARY------------------------------------------------------------\n",
      "The Indian Premier League (IPL) is a professional Twenty20 cricket league in India contested during April and May of every year by 8 teams representing 8 cities of India.The league was founded by the Board of Control for Cricket in India (BCCI) in 2008, and is regarded as the brainchild of Lalit Modi, the founder and former commissioner of the league.The IPL is the most-attended cricket league in the world and in 2014 ranked sixth by average attendance among all sports leagues.The brand value of IPL in 2018 was US$6.3 billion, according to Duff & Phelps.According to BCCI, the 2015 IPL season contributed ₹11.5 billion (US$182 million) to the GDP of the Indian economy.The current IPL title holders are the Chennai Super Kings, who won the 2018 season.\n",
      " -------------------------------------------------------SUMMARY------------------------------------------------------------\n"
     ]
    }
   ],
   "source": [
    "print(\" -------------------------------------------------------SUMMARY------------------------------------------------------------\")\n",
    "\n",
    "print(Summary) # Prints the summary of input\n",
    "\n",
    "print(\" -------------------------------------------------------SUMMARY------------------------------------------------------------\")"
   ]
  },
  {
   "cell_type": "code",
   "execution_count": 302,
   "metadata": {},
   "outputs": [
    {
     "name": "stdout",
     "output_type": "stream",
     "text": [
      "OUTPUT COUNT :468\n"
     ]
    }
   ],
   "source": [
    "count_after = len(Summary) # Count words in summary\n",
    "print(\"OUTPUT COUNT :\" + str(count_after) ) # Prints the count"
   ]
  },
  {
   "cell_type": "raw",
   "metadata": {},
   "source": [
    "SOME INSIGHTS\n",
    "\n",
    "# Input data  \n",
    "\n",
    "INPUT = \"\"\"There are many techniques available to generate extractive summarization to keep it simple, I will be using an unsupervised learning approach to find the sentences similarity and rank them.\n",
    "\n",
    "Summarization can be defined as a task of producing a concise and fluent summary while preserving key information and overall meaning. One benefit of this will be, you don’t need to train and build a model prior start using it for your project. It’s good to understand Cosine similarity to make the best use of the code you are going to see. \n",
    "\n",
    "Cosine similarity is a measure of similarity between two non-zero vectors of an inner product space that measures the cosine of the angle between them.\n",
    "\n",
    "### Its measures cosine of the angle between vectors. The angle will be 0 if sentences are similar.\"\"\" \n",
    "\n",
    "\n",
    "OUTPUT:There are many techniques available to generate extractive summarization to keep it simple, I will be using an unsupervised learning approach to find the sentences similarity and rank them.\n",
    "\n",
    "Cosine similarity is a measure of similarity between two non-zero vectors of an inner product space that measures the cosine of the angle between them. \n",
    "\n",
    "\n",
    "OTHER EXAMPLES:\n",
    "\n",
    "INPUT:\n",
    "\n",
    "TheIndian Premier League (IPL) is a professional Twenty20 cricket league in Indiacontested during April and May of every year by 8 teams representing 8 citiesof India. The league was founded by the Board of Control for Cricket in India(BCCI) in 2008, and is regarded as the brainchild of Lalit Modi, the founderand former commissioner of the league. \n",
    "\n",
    "IPL has an exclusive window inICC Future Tours Programme.\n",
    "\n",
    "The IPL is the most-attended cricket league in the world and in 2014 ranked sixth byaverage attendance among all sports leagues. \n",
    "\n",
    "In 2010, the IPL became thefirst sporting event in the world to be broadcast live on YouTube.\n",
    "\n",
    "The brand value of IPL in 2018 wasUS$6.3 billion, according to Duff & Phelps. According to BCCI, the 2015 IPLseason contributed ₹11.5 billion (US$182 million) to the GDP of the Indianeconomy.\n",
    "\n",
    "There have been eleven seasons of the IPL tournament. \n",
    "\n",
    "The current IPL title holders arethe Chennai Super Kings, who won the 2018 season. \n",
    "\n",
    "\n",
    "OUTPUT: The Indian Premier League (IPL) is a professional Twenty20 cricket league in India contested during April and May of every year by 8 teams representing 8 cities of India.The league was founded by the Board of Control for Cricket in India (BCCI) in 2008, and is regarded as the brainchild of Lalit Modi, the founder and former commissioner of the league.\n",
    "\n",
    "The IPL is the most-attended cricket league in the world and in 2014 ranked sixth by average attendance among all sports leagues.\n",
    "\n",
    "The brand value of IPL in 2018 was US$6.3 billion, according to Duff & Phelps.According to BCCI, the 2015 IPL season contributed ₹11.5 billion (US$182 million) to the GDP of the Indian economy.\n",
    "\n",
    "The current IPL title holders are the Chennai Super Kings, who won the 2018 season.  \n",
    "\n",
    "\n",
    "THIS ALGORITHM WORKS EFFECTIVELY FOR COUNT < 1000 and you hv to manually set the threshold value to get the best results\n",
    "\n",
    "a std threshold value doesnt hold good for all cases.\n",
    "\n",
    "1st case the threshold value : 1.2 (The less threshold value the more words appear in the summary)\n",
    "\n",
    "2nd case the threshold values : 0.9 "
   ]
  },
  {
   "cell_type": "code",
   "execution_count": null,
   "metadata": {},
   "outputs": [],
   "source": []
  },
  {
   "cell_type": "code",
   "execution_count": 213,
   "metadata": {},
   "outputs": [
    {
     "name": "stdout",
     "output_type": "stream",
     "text": [
      "653\n"
     ]
    }
   ],
   "source": [
    "#BETA\n",
    "\n",
    "Example =\"\"\" Envisioned as a three-year collaborative program,\n",
    "Intelligent Cloud Hub will support around 100 institutions with AI infrastructure, \n",
    "course content and curriculum, developer support,\n",
    "development tools and give students access to cloud and AI services. \n",
    "The company will provide AI development tools and Azure AI services such as Microsoft Cognitive Services,\n",
    "Bot Services and Azure Machine Learning. According to Manish Prakash,\n",
    "Country General Manager-PS, Health and Education,\n",
    "Microsoft India, said, \"With AI being the defining technology of our time,\n",
    "it is transforming lives and industry and the jobs of tomorrow will require a different skillset.\"\"\"\n",
    "\n",
    "count = len(Example)\n",
    "print(count)"
   ]
  }
 ],
 "metadata": {
  "kernelspec": {
   "display_name": "Python 3",
   "language": "python",
   "name": "python3"
  },
  "language_info": {
   "codemirror_mode": {
    "name": "ipython",
    "version": 3
   },
   "file_extension": ".py",
   "mimetype": "text/x-python",
   "name": "python",
   "nbconvert_exporter": "python",
   "pygments_lexer": "ipython3",
   "version": "3.7.6"
  }
 },
 "nbformat": 4,
 "nbformat_minor": 4
}
